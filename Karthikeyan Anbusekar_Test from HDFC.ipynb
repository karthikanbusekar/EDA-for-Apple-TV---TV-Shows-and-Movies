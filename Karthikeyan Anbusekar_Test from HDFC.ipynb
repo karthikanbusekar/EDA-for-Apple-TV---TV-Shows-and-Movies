{
 "cells": [
  {
   "cell_type": "markdown",
   "id": "3806e9ed",
   "metadata": {},
   "source": [
    " \n",
    " # <font color= Blue ><center>Exploratory data analysis </center></color>"
   ]
  },
  {
   "cell_type": "markdown",
   "id": "f1f0cefd",
   "metadata": {},
   "source": [
    "### About Dataset"
   ]
  },
  {
   "cell_type": "markdown",
   "id": "87441b4e",
   "metadata": {},
   "source": [
    "* This dataset was created to list all shows and movies available on AppleTV+. It was collected from JustWatch in March 2023, containing data available in the United States.\n",
    "\n",
    "* This dataset contains two files, one for the titles (titles.csv) and the other for the cast (credits.csv) of each movie and show on the platform."
   ]
  },
  {
   "cell_type": "code",
   "execution_count": 1,
   "id": "2d43dfd7",
   "metadata": {},
   "outputs": [],
   "source": [
    "import numpy as np\n",
    "import pandas as pd\n",
    "import seaborn as sns\n",
    "import matplotlib.pyplot as plt\n",
    "%matplotlib inline"
   ]
  },
  {
   "cell_type": "code",
   "execution_count": 2,
   "id": "ee895d4e",
   "metadata": {},
   "outputs": [],
   "source": [
    "import warnings\n",
    "warnings.filterwarnings('ignore') "
   ]
  },
  {
   "cell_type": "code",
   "execution_count": 3,
   "id": "3d9ef3ec",
   "metadata": {},
   "outputs": [],
   "source": [
    "df=pd.read_csv(\"titles.csv\")"
   ]
  },
  {
   "cell_type": "code",
   "execution_count": 4,
   "id": "75e294d4",
   "metadata": {},
   "outputs": [],
   "source": [
    "df1=pd.read_csv(\"credits.csv\")"
   ]
  },
  {
   "cell_type": "markdown",
   "id": "cf6a590b",
   "metadata": {},
   "source": [
    "## EDA for \"titles.csv\""
   ]
  },
  {
   "cell_type": "markdown",
   "id": "56b69cd4",
   "metadata": {},
   "source": [
    "### Sample data"
   ]
  },
  {
   "cell_type": "code",
   "execution_count": 5,
   "id": "bebd1136",
   "metadata": {
    "scrolled": true
   },
   "outputs": [
    {
     "data": {
      "text/html": [
       "<div>\n",
       "<style scoped>\n",
       "    .dataframe tbody tr th:only-of-type {\n",
       "        vertical-align: middle;\n",
       "    }\n",
       "\n",
       "    .dataframe tbody tr th {\n",
       "        vertical-align: top;\n",
       "    }\n",
       "\n",
       "    .dataframe thead th {\n",
       "        text-align: right;\n",
       "    }\n",
       "</style>\n",
       "<table border=\"1\" class=\"dataframe\">\n",
       "  <thead>\n",
       "    <tr style=\"text-align: right;\">\n",
       "      <th></th>\n",
       "      <th>id</th>\n",
       "      <th>title</th>\n",
       "      <th>type</th>\n",
       "      <th>description</th>\n",
       "      <th>release_year</th>\n",
       "      <th>age_certification</th>\n",
       "      <th>runtime</th>\n",
       "      <th>genres</th>\n",
       "      <th>production_countries</th>\n",
       "      <th>seasons</th>\n",
       "      <th>imdb_id</th>\n",
       "      <th>imdb_score</th>\n",
       "      <th>imdb_votes</th>\n",
       "      <th>tmdb_popularity</th>\n",
       "      <th>tmdb_score</th>\n",
       "    </tr>\n",
       "  </thead>\n",
       "  <tbody>\n",
       "    <tr>\n",
       "      <th>0</th>\n",
       "      <td>tm1300</td>\n",
       "      <td>A Charlie Brown Christmas</td>\n",
       "      <td>MOVIE</td>\n",
       "      <td>When Charlie Brown complains about the overwhe...</td>\n",
       "      <td>1965</td>\n",
       "      <td>G</td>\n",
       "      <td>25</td>\n",
       "      <td>['comedy', 'drama', 'family', 'music', 'animat...</td>\n",
       "      <td>['US']</td>\n",
       "      <td>NaN</td>\n",
       "      <td>tt0059026</td>\n",
       "      <td>8.3</td>\n",
       "      <td>40328.0</td>\n",
       "      <td>10.848</td>\n",
       "      <td>7.688</td>\n",
       "    </tr>\n",
       "    <tr>\n",
       "      <th>1</th>\n",
       "      <td>tm71152</td>\n",
       "      <td>It's the Great Pumpkin, Charlie Brown</td>\n",
       "      <td>MOVIE</td>\n",
       "      <td>This classic \"Peanuts\" tale focuses on the thu...</td>\n",
       "      <td>1966</td>\n",
       "      <td>G</td>\n",
       "      <td>25</td>\n",
       "      <td>['animation', 'comedy', 'family']</td>\n",
       "      <td>['US']</td>\n",
       "      <td>NaN</td>\n",
       "      <td>tt0060550</td>\n",
       "      <td>8.2</td>\n",
       "      <td>20299.0</td>\n",
       "      <td>12.458</td>\n",
       "      <td>7.474</td>\n",
       "    </tr>\n",
       "    <tr>\n",
       "      <th>2</th>\n",
       "      <td>tm2562</td>\n",
       "      <td>A Charlie Brown Thanksgiving</td>\n",
       "      <td>MOVIE</td>\n",
       "      <td>Turkey, cranberries, pumpkin pie... and the Pe...</td>\n",
       "      <td>1973</td>\n",
       "      <td>G</td>\n",
       "      <td>25</td>\n",
       "      <td>['family', 'animation', 'comedy']</td>\n",
       "      <td>['US']</td>\n",
       "      <td>NaN</td>\n",
       "      <td>tt0068359</td>\n",
       "      <td>7.7</td>\n",
       "      <td>11406.0</td>\n",
       "      <td>12.591</td>\n",
       "      <td>7.311</td>\n",
       "    </tr>\n",
       "    <tr>\n",
       "      <th>3</th>\n",
       "      <td>tm125274</td>\n",
       "      <td>Be My Valentine, Charlie Brown</td>\n",
       "      <td>MOVIE</td>\n",
       "      <td>It's Valentine's Day again and Charlie Brown d...</td>\n",
       "      <td>1975</td>\n",
       "      <td>G</td>\n",
       "      <td>25</td>\n",
       "      <td>['animation', 'family', 'romance', 'comedy']</td>\n",
       "      <td>['US']</td>\n",
       "      <td>NaN</td>\n",
       "      <td>tt0072687</td>\n",
       "      <td>7.4</td>\n",
       "      <td>2777.0</td>\n",
       "      <td>6.981</td>\n",
       "      <td>7.000</td>\n",
       "    </tr>\n",
       "    <tr>\n",
       "      <th>4</th>\n",
       "      <td>tm106607</td>\n",
       "      <td>It's the Easter Beagle, Charlie Brown</td>\n",
       "      <td>MOVIE</td>\n",
       "      <td>Charlie Brown, Linus and the entire Peanuts ga...</td>\n",
       "      <td>1974</td>\n",
       "      <td>G</td>\n",
       "      <td>25</td>\n",
       "      <td>['family', 'animation', 'comedy']</td>\n",
       "      <td>['US']</td>\n",
       "      <td>NaN</td>\n",
       "      <td>tt0071679</td>\n",
       "      <td>7.5</td>\n",
       "      <td>3001.0</td>\n",
       "      <td>6.172</td>\n",
       "      <td>6.600</td>\n",
       "    </tr>\n",
       "  </tbody>\n",
       "</table>\n",
       "</div>"
      ],
      "text/plain": [
       "         id                                  title   type  \\\n",
       "0    tm1300              A Charlie Brown Christmas  MOVIE   \n",
       "1   tm71152  It's the Great Pumpkin, Charlie Brown  MOVIE   \n",
       "2    tm2562           A Charlie Brown Thanksgiving  MOVIE   \n",
       "3  tm125274         Be My Valentine, Charlie Brown  MOVIE   \n",
       "4  tm106607  It's the Easter Beagle, Charlie Brown  MOVIE   \n",
       "\n",
       "                                         description  release_year  \\\n",
       "0  When Charlie Brown complains about the overwhe...          1965   \n",
       "1  This classic \"Peanuts\" tale focuses on the thu...          1966   \n",
       "2  Turkey, cranberries, pumpkin pie... and the Pe...          1973   \n",
       "3  It's Valentine's Day again and Charlie Brown d...          1975   \n",
       "4  Charlie Brown, Linus and the entire Peanuts ga...          1974   \n",
       "\n",
       "  age_certification  runtime  \\\n",
       "0                 G       25   \n",
       "1                 G       25   \n",
       "2                 G       25   \n",
       "3                 G       25   \n",
       "4                 G       25   \n",
       "\n",
       "                                              genres production_countries  \\\n",
       "0  ['comedy', 'drama', 'family', 'music', 'animat...               ['US']   \n",
       "1                  ['animation', 'comedy', 'family']               ['US']   \n",
       "2                  ['family', 'animation', 'comedy']               ['US']   \n",
       "3       ['animation', 'family', 'romance', 'comedy']               ['US']   \n",
       "4                  ['family', 'animation', 'comedy']               ['US']   \n",
       "\n",
       "   seasons    imdb_id  imdb_score  imdb_votes  tmdb_popularity  tmdb_score  \n",
       "0      NaN  tt0059026         8.3     40328.0           10.848       7.688  \n",
       "1      NaN  tt0060550         8.2     20299.0           12.458       7.474  \n",
       "2      NaN  tt0068359         7.7     11406.0           12.591       7.311  \n",
       "3      NaN  tt0072687         7.4      2777.0            6.981       7.000  \n",
       "4      NaN  tt0071679         7.5      3001.0            6.172       6.600  "
      ]
     },
     "execution_count": 5,
     "metadata": {},
     "output_type": "execute_result"
    }
   ],
   "source": [
    "df.head()"
   ]
  },
  {
   "cell_type": "code",
   "execution_count": 6,
   "id": "3c67edbb",
   "metadata": {},
   "outputs": [
    {
     "data": {
      "text/plain": [
       "(170, 15)"
      ]
     },
     "execution_count": 6,
     "metadata": {},
     "output_type": "execute_result"
    }
   ],
   "source": [
    "df.shape"
   ]
  },
  {
   "cell_type": "code",
   "execution_count": 7,
   "id": "249784a3",
   "metadata": {},
   "outputs": [
    {
     "name": "stdout",
     "output_type": "stream",
     "text": [
      "<class 'pandas.core.frame.DataFrame'>\n",
      "RangeIndex: 170 entries, 0 to 169\n",
      "Data columns (total 15 columns):\n",
      " #   Column                Non-Null Count  Dtype  \n",
      "---  ------                --------------  -----  \n",
      " 0   id                    170 non-null    object \n",
      " 1   title                 170 non-null    object \n",
      " 2   type                  170 non-null    object \n",
      " 3   description           170 non-null    object \n",
      " 4   release_year          170 non-null    int64  \n",
      " 5   age_certification     159 non-null    object \n",
      " 6   runtime               170 non-null    int64  \n",
      " 7   genres                170 non-null    object \n",
      " 8   production_countries  170 non-null    object \n",
      " 9   seasons               108 non-null    float64\n",
      " 10  imdb_id               169 non-null    object \n",
      " 11  imdb_score            167 non-null    float64\n",
      " 12  imdb_votes            166 non-null    float64\n",
      " 13  tmdb_popularity       170 non-null    float64\n",
      " 14  tmdb_score            167 non-null    float64\n",
      "dtypes: float64(5), int64(2), object(8)\n",
      "memory usage: 20.0+ KB\n"
     ]
    }
   ],
   "source": [
    "df.info()"
   ]
  },
  {
   "cell_type": "markdown",
   "id": "32ab55a1",
   "metadata": {},
   "source": [
    "### Datatype for each variable"
   ]
  },
  {
   "cell_type": "code",
   "execution_count": 8,
   "id": "eeb981d7",
   "metadata": {
    "scrolled": true
   },
   "outputs": [
    {
     "data": {
      "text/html": [
       "<div>\n",
       "<style scoped>\n",
       "    .dataframe tbody tr th:only-of-type {\n",
       "        vertical-align: middle;\n",
       "    }\n",
       "\n",
       "    .dataframe tbody tr th {\n",
       "        vertical-align: top;\n",
       "    }\n",
       "\n",
       "    .dataframe thead th {\n",
       "        text-align: right;\n",
       "    }\n",
       "</style>\n",
       "<table border=\"1\" class=\"dataframe\">\n",
       "  <thead>\n",
       "    <tr style=\"text-align: right;\">\n",
       "      <th></th>\n",
       "      <th>Datatype</th>\n",
       "    </tr>\n",
       "  </thead>\n",
       "  <tbody>\n",
       "    <tr>\n",
       "      <th>id</th>\n",
       "      <td>object</td>\n",
       "    </tr>\n",
       "    <tr>\n",
       "      <th>title</th>\n",
       "      <td>object</td>\n",
       "    </tr>\n",
       "    <tr>\n",
       "      <th>type</th>\n",
       "      <td>object</td>\n",
       "    </tr>\n",
       "    <tr>\n",
       "      <th>description</th>\n",
       "      <td>object</td>\n",
       "    </tr>\n",
       "    <tr>\n",
       "      <th>release_year</th>\n",
       "      <td>int64</td>\n",
       "    </tr>\n",
       "    <tr>\n",
       "      <th>age_certification</th>\n",
       "      <td>object</td>\n",
       "    </tr>\n",
       "    <tr>\n",
       "      <th>runtime</th>\n",
       "      <td>int64</td>\n",
       "    </tr>\n",
       "    <tr>\n",
       "      <th>genres</th>\n",
       "      <td>object</td>\n",
       "    </tr>\n",
       "    <tr>\n",
       "      <th>production_countries</th>\n",
       "      <td>object</td>\n",
       "    </tr>\n",
       "    <tr>\n",
       "      <th>seasons</th>\n",
       "      <td>float64</td>\n",
       "    </tr>\n",
       "    <tr>\n",
       "      <th>imdb_id</th>\n",
       "      <td>object</td>\n",
       "    </tr>\n",
       "    <tr>\n",
       "      <th>imdb_score</th>\n",
       "      <td>float64</td>\n",
       "    </tr>\n",
       "    <tr>\n",
       "      <th>imdb_votes</th>\n",
       "      <td>float64</td>\n",
       "    </tr>\n",
       "    <tr>\n",
       "      <th>tmdb_popularity</th>\n",
       "      <td>float64</td>\n",
       "    </tr>\n",
       "    <tr>\n",
       "      <th>tmdb_score</th>\n",
       "      <td>float64</td>\n",
       "    </tr>\n",
       "  </tbody>\n",
       "</table>\n",
       "</div>"
      ],
      "text/plain": [
       "                     Datatype\n",
       "id                     object\n",
       "title                  object\n",
       "type                   object\n",
       "description            object\n",
       "release_year            int64\n",
       "age_certification      object\n",
       "runtime                 int64\n",
       "genres                 object\n",
       "production_countries   object\n",
       "seasons               float64\n",
       "imdb_id                object\n",
       "imdb_score            float64\n",
       "imdb_votes            float64\n",
       "tmdb_popularity       float64\n",
       "tmdb_score            float64"
      ]
     },
     "execution_count": 8,
     "metadata": {},
     "output_type": "execute_result"
    }
   ],
   "source": [
    "pd.DataFrame(df.dtypes,columns=[\"Datatype\"])"
   ]
  },
  {
   "cell_type": "code",
   "execution_count": 9,
   "id": "df06caf3",
   "metadata": {
    "scrolled": true
   },
   "outputs": [
    {
     "data": {
      "text/plain": [
       "Index(['id', 'title', 'type', 'description', 'release_year',\n",
       "       'age_certification', 'runtime', 'genres', 'production_countries',\n",
       "       'seasons', 'imdb_id', 'imdb_score', 'imdb_votes', 'tmdb_popularity',\n",
       "       'tmdb_score'],\n",
       "      dtype='object')"
      ]
     },
     "execution_count": 9,
     "metadata": {},
     "output_type": "execute_result"
    }
   ],
   "source": [
    "df.columns"
   ]
  },
  {
   "cell_type": "markdown",
   "id": "0ef072dc",
   "metadata": {},
   "source": [
    "### Missing values in the dataset"
   ]
  },
  {
   "cell_type": "code",
   "execution_count": 10,
   "id": "590439da",
   "metadata": {},
   "outputs": [
    {
     "data": {
      "text/html": [
       "<div>\n",
       "<style scoped>\n",
       "    .dataframe tbody tr th:only-of-type {\n",
       "        vertical-align: middle;\n",
       "    }\n",
       "\n",
       "    .dataframe tbody tr th {\n",
       "        vertical-align: top;\n",
       "    }\n",
       "\n",
       "    .dataframe thead th {\n",
       "        text-align: right;\n",
       "    }\n",
       "</style>\n",
       "<table border=\"1\" class=\"dataframe\">\n",
       "  <thead>\n",
       "    <tr style=\"text-align: right;\">\n",
       "      <th></th>\n",
       "      <th>No.of null values</th>\n",
       "    </tr>\n",
       "  </thead>\n",
       "  <tbody>\n",
       "    <tr>\n",
       "      <th>id</th>\n",
       "      <td>0</td>\n",
       "    </tr>\n",
       "    <tr>\n",
       "      <th>title</th>\n",
       "      <td>0</td>\n",
       "    </tr>\n",
       "    <tr>\n",
       "      <th>type</th>\n",
       "      <td>0</td>\n",
       "    </tr>\n",
       "    <tr>\n",
       "      <th>description</th>\n",
       "      <td>0</td>\n",
       "    </tr>\n",
       "    <tr>\n",
       "      <th>release_year</th>\n",
       "      <td>0</td>\n",
       "    </tr>\n",
       "    <tr>\n",
       "      <th>age_certification</th>\n",
       "      <td>11</td>\n",
       "    </tr>\n",
       "    <tr>\n",
       "      <th>runtime</th>\n",
       "      <td>0</td>\n",
       "    </tr>\n",
       "    <tr>\n",
       "      <th>genres</th>\n",
       "      <td>0</td>\n",
       "    </tr>\n",
       "    <tr>\n",
       "      <th>production_countries</th>\n",
       "      <td>0</td>\n",
       "    </tr>\n",
       "    <tr>\n",
       "      <th>seasons</th>\n",
       "      <td>62</td>\n",
       "    </tr>\n",
       "    <tr>\n",
       "      <th>imdb_id</th>\n",
       "      <td>1</td>\n",
       "    </tr>\n",
       "    <tr>\n",
       "      <th>imdb_score</th>\n",
       "      <td>3</td>\n",
       "    </tr>\n",
       "    <tr>\n",
       "      <th>imdb_votes</th>\n",
       "      <td>4</td>\n",
       "    </tr>\n",
       "    <tr>\n",
       "      <th>tmdb_popularity</th>\n",
       "      <td>0</td>\n",
       "    </tr>\n",
       "    <tr>\n",
       "      <th>tmdb_score</th>\n",
       "      <td>3</td>\n",
       "    </tr>\n",
       "  </tbody>\n",
       "</table>\n",
       "</div>"
      ],
      "text/plain": [
       "                      No.of null values\n",
       "id                                    0\n",
       "title                                 0\n",
       "type                                  0\n",
       "description                           0\n",
       "release_year                          0\n",
       "age_certification                    11\n",
       "runtime                               0\n",
       "genres                                0\n",
       "production_countries                  0\n",
       "seasons                              62\n",
       "imdb_id                               1\n",
       "imdb_score                            3\n",
       "imdb_votes                            4\n",
       "tmdb_popularity                       0\n",
       "tmdb_score                            3"
      ]
     },
     "execution_count": 10,
     "metadata": {},
     "output_type": "execute_result"
    }
   ],
   "source": [
    "pd.DataFrame(df.isnull().sum(),columns=[\"No.of null values\"])"
   ]
  },
  {
   "cell_type": "markdown",
   "id": "12374389",
   "metadata": {},
   "source": [
    "### Check duplicates"
   ]
  },
  {
   "cell_type": "code",
   "execution_count": 11,
   "id": "fac84661",
   "metadata": {},
   "outputs": [
    {
     "data": {
      "text/plain": [
       "0"
      ]
     },
     "execution_count": 11,
     "metadata": {},
     "output_type": "execute_result"
    }
   ],
   "source": [
    "df.duplicated().sum()"
   ]
  },
  {
   "cell_type": "markdown",
   "id": "645d6e8f",
   "metadata": {},
   "source": [
    "* There are total 170 rows and 15 columns in the dataset.  \n",
    "* 'id', 'title', 'type', 'description','age_certification',  'genres', 'production_countries', and 'imdb_id' are object type variable. \n",
    "* 'release_year','runtime','seasons', 'imdb_score', 'imdb_votes', 'tmdb_popularity' and 'tmdb_score' are numerical variable.\n",
    "* From the above results we can see that the variable 'age_certification' and 'seasons', has more  null values, need to treat them. Also other variable have less number of null values.\n",
    "* Also checked that there is no duplicate rows.  \n"
   ]
  },
  {
   "cell_type": "markdown",
   "id": "9f09578a",
   "metadata": {},
   "source": [
    "**Statiscal Summary**"
   ]
  },
  {
   "cell_type": "code",
   "execution_count": 12,
   "id": "887a367e",
   "metadata": {},
   "outputs": [
    {
     "data": {
      "text/html": [
       "<div>\n",
       "<style scoped>\n",
       "    .dataframe tbody tr th:only-of-type {\n",
       "        vertical-align: middle;\n",
       "    }\n",
       "\n",
       "    .dataframe tbody tr th {\n",
       "        vertical-align: top;\n",
       "    }\n",
       "\n",
       "    .dataframe thead th {\n",
       "        text-align: right;\n",
       "    }\n",
       "</style>\n",
       "<table border=\"1\" class=\"dataframe\">\n",
       "  <thead>\n",
       "    <tr style=\"text-align: right;\">\n",
       "      <th></th>\n",
       "      <th>id</th>\n",
       "      <th>title</th>\n",
       "      <th>type</th>\n",
       "      <th>description</th>\n",
       "      <th>release_year</th>\n",
       "      <th>age_certification</th>\n",
       "      <th>runtime</th>\n",
       "      <th>genres</th>\n",
       "      <th>production_countries</th>\n",
       "      <th>seasons</th>\n",
       "      <th>imdb_id</th>\n",
       "      <th>imdb_score</th>\n",
       "      <th>imdb_votes</th>\n",
       "      <th>tmdb_popularity</th>\n",
       "      <th>tmdb_score</th>\n",
       "    </tr>\n",
       "  </thead>\n",
       "  <tbody>\n",
       "    <tr>\n",
       "      <th>count</th>\n",
       "      <td>170</td>\n",
       "      <td>170</td>\n",
       "      <td>170</td>\n",
       "      <td>170</td>\n",
       "      <td>170.000000</td>\n",
       "      <td>159</td>\n",
       "      <td>170.000000</td>\n",
       "      <td>170</td>\n",
       "      <td>170</td>\n",
       "      <td>108.000000</td>\n",
       "      <td>169</td>\n",
       "      <td>167.000000</td>\n",
       "      <td>166.000000</td>\n",
       "      <td>170.000000</td>\n",
       "      <td>167.000000</td>\n",
       "    </tr>\n",
       "    <tr>\n",
       "      <th>unique</th>\n",
       "      <td>170</td>\n",
       "      <td>170</td>\n",
       "      <td>2</td>\n",
       "      <td>170</td>\n",
       "      <td>NaN</td>\n",
       "      <td>10</td>\n",
       "      <td>NaN</td>\n",
       "      <td>97</td>\n",
       "      <td>26</td>\n",
       "      <td>NaN</td>\n",
       "      <td>169</td>\n",
       "      <td>NaN</td>\n",
       "      <td>NaN</td>\n",
       "      <td>NaN</td>\n",
       "      <td>NaN</td>\n",
       "    </tr>\n",
       "    <tr>\n",
       "      <th>top</th>\n",
       "      <td>tm1300</td>\n",
       "      <td>A Charlie Brown Christmas</td>\n",
       "      <td>SHOW</td>\n",
       "      <td>When Charlie Brown complains about the overwhe...</td>\n",
       "      <td>NaN</td>\n",
       "      <td>TV-MA</td>\n",
       "      <td>NaN</td>\n",
       "      <td>['documentation']</td>\n",
       "      <td>['US']</td>\n",
       "      <td>NaN</td>\n",
       "      <td>tt0059026</td>\n",
       "      <td>NaN</td>\n",
       "      <td>NaN</td>\n",
       "      <td>NaN</td>\n",
       "      <td>NaN</td>\n",
       "    </tr>\n",
       "    <tr>\n",
       "      <th>freq</th>\n",
       "      <td>1</td>\n",
       "      <td>1</td>\n",
       "      <td>108</td>\n",
       "      <td>1</td>\n",
       "      <td>NaN</td>\n",
       "      <td>51</td>\n",
       "      <td>NaN</td>\n",
       "      <td>14</td>\n",
       "      <td>117</td>\n",
       "      <td>NaN</td>\n",
       "      <td>1</td>\n",
       "      <td>NaN</td>\n",
       "      <td>NaN</td>\n",
       "      <td>NaN</td>\n",
       "      <td>NaN</td>\n",
       "    </tr>\n",
       "    <tr>\n",
       "      <th>mean</th>\n",
       "      <td>NaN</td>\n",
       "      <td>NaN</td>\n",
       "      <td>NaN</td>\n",
       "      <td>NaN</td>\n",
       "      <td>2017.900000</td>\n",
       "      <td>NaN</td>\n",
       "      <td>51.105882</td>\n",
       "      <td>NaN</td>\n",
       "      <td>NaN</td>\n",
       "      <td>1.638889</td>\n",
       "      <td>NaN</td>\n",
       "      <td>7.126347</td>\n",
       "      <td>18139.126506</td>\n",
       "      <td>25.475188</td>\n",
       "      <td>7.189695</td>\n",
       "    </tr>\n",
       "    <tr>\n",
       "      <th>std</th>\n",
       "      <td>NaN</td>\n",
       "      <td>NaN</td>\n",
       "      <td>NaN</td>\n",
       "      <td>NaN</td>\n",
       "      <td>10.357315</td>\n",
       "      <td>NaN</td>\n",
       "      <td>35.867449</td>\n",
       "      <td>NaN</td>\n",
       "      <td>NaN</td>\n",
       "      <td>0.869615</td>\n",
       "      <td>NaN</td>\n",
       "      <td>1.011691</td>\n",
       "      <td>42929.993830</td>\n",
       "      <td>38.082373</td>\n",
       "      <td>1.202560</td>\n",
       "    </tr>\n",
       "    <tr>\n",
       "      <th>min</th>\n",
       "      <td>NaN</td>\n",
       "      <td>NaN</td>\n",
       "      <td>NaN</td>\n",
       "      <td>NaN</td>\n",
       "      <td>1965.000000</td>\n",
       "      <td>NaN</td>\n",
       "      <td>0.000000</td>\n",
       "      <td>NaN</td>\n",
       "      <td>NaN</td>\n",
       "      <td>1.000000</td>\n",
       "      <td>NaN</td>\n",
       "      <td>2.700000</td>\n",
       "      <td>19.000000</td>\n",
       "      <td>2.902000</td>\n",
       "      <td>2.000000</td>\n",
       "    </tr>\n",
       "    <tr>\n",
       "      <th>25%</th>\n",
       "      <td>NaN</td>\n",
       "      <td>NaN</td>\n",
       "      <td>NaN</td>\n",
       "      <td>NaN</td>\n",
       "      <td>2020.000000</td>\n",
       "      <td>NaN</td>\n",
       "      <td>25.000000</td>\n",
       "      <td>NaN</td>\n",
       "      <td>NaN</td>\n",
       "      <td>1.000000</td>\n",
       "      <td>NaN</td>\n",
       "      <td>6.600000</td>\n",
       "      <td>537.750000</td>\n",
       "      <td>5.971000</td>\n",
       "      <td>6.600000</td>\n",
       "    </tr>\n",
       "    <tr>\n",
       "      <th>50%</th>\n",
       "      <td>NaN</td>\n",
       "      <td>NaN</td>\n",
       "      <td>NaN</td>\n",
       "      <td>NaN</td>\n",
       "      <td>2021.000000</td>\n",
       "      <td>NaN</td>\n",
       "      <td>45.000000</td>\n",
       "      <td>NaN</td>\n",
       "      <td>NaN</td>\n",
       "      <td>1.000000</td>\n",
       "      <td>NaN</td>\n",
       "      <td>7.300000</td>\n",
       "      <td>2796.000000</td>\n",
       "      <td>10.812500</td>\n",
       "      <td>7.300000</td>\n",
       "    </tr>\n",
       "    <tr>\n",
       "      <th>75%</th>\n",
       "      <td>NaN</td>\n",
       "      <td>NaN</td>\n",
       "      <td>NaN</td>\n",
       "      <td>NaN</td>\n",
       "      <td>2022.000000</td>\n",
       "      <td>NaN</td>\n",
       "      <td>61.000000</td>\n",
       "      <td>NaN</td>\n",
       "      <td>NaN</td>\n",
       "      <td>2.000000</td>\n",
       "      <td>NaN</td>\n",
       "      <td>7.800000</td>\n",
       "      <td>14404.000000</td>\n",
       "      <td>26.120750</td>\n",
       "      <td>7.906500</td>\n",
       "    </tr>\n",
       "    <tr>\n",
       "      <th>max</th>\n",
       "      <td>NaN</td>\n",
       "      <td>NaN</td>\n",
       "      <td>NaN</td>\n",
       "      <td>NaN</td>\n",
       "      <td>2023.000000</td>\n",
       "      <td>NaN</td>\n",
       "      <td>140.000000</td>\n",
       "      <td>NaN</td>\n",
       "      <td>NaN</td>\n",
       "      <td>5.000000</td>\n",
       "      <td>NaN</td>\n",
       "      <td>9.500000</td>\n",
       "      <td>374255.000000</td>\n",
       "      <td>270.029000</td>\n",
       "      <td>10.000000</td>\n",
       "    </tr>\n",
       "  </tbody>\n",
       "</table>\n",
       "</div>"
      ],
      "text/plain": [
       "            id                      title  type  \\\n",
       "count      170                        170   170   \n",
       "unique     170                        170     2   \n",
       "top     tm1300  A Charlie Brown Christmas  SHOW   \n",
       "freq         1                          1   108   \n",
       "mean       NaN                        NaN   NaN   \n",
       "std        NaN                        NaN   NaN   \n",
       "min        NaN                        NaN   NaN   \n",
       "25%        NaN                        NaN   NaN   \n",
       "50%        NaN                        NaN   NaN   \n",
       "75%        NaN                        NaN   NaN   \n",
       "max        NaN                        NaN   NaN   \n",
       "\n",
       "                                              description  release_year  \\\n",
       "count                                                 170    170.000000   \n",
       "unique                                                170           NaN   \n",
       "top     When Charlie Brown complains about the overwhe...           NaN   \n",
       "freq                                                    1           NaN   \n",
       "mean                                                  NaN   2017.900000   \n",
       "std                                                   NaN     10.357315   \n",
       "min                                                   NaN   1965.000000   \n",
       "25%                                                   NaN   2020.000000   \n",
       "50%                                                   NaN   2021.000000   \n",
       "75%                                                   NaN   2022.000000   \n",
       "max                                                   NaN   2023.000000   \n",
       "\n",
       "       age_certification     runtime             genres production_countries  \\\n",
       "count                159  170.000000                170                  170   \n",
       "unique                10         NaN                 97                   26   \n",
       "top                TV-MA         NaN  ['documentation']               ['US']   \n",
       "freq                  51         NaN                 14                  117   \n",
       "mean                 NaN   51.105882                NaN                  NaN   \n",
       "std                  NaN   35.867449                NaN                  NaN   \n",
       "min                  NaN    0.000000                NaN                  NaN   \n",
       "25%                  NaN   25.000000                NaN                  NaN   \n",
       "50%                  NaN   45.000000                NaN                  NaN   \n",
       "75%                  NaN   61.000000                NaN                  NaN   \n",
       "max                  NaN  140.000000                NaN                  NaN   \n",
       "\n",
       "           seasons    imdb_id  imdb_score     imdb_votes  tmdb_popularity  \\\n",
       "count   108.000000        169  167.000000     166.000000       170.000000   \n",
       "unique         NaN        169         NaN            NaN              NaN   \n",
       "top            NaN  tt0059026         NaN            NaN              NaN   \n",
       "freq           NaN          1         NaN            NaN              NaN   \n",
       "mean      1.638889        NaN    7.126347   18139.126506        25.475188   \n",
       "std       0.869615        NaN    1.011691   42929.993830        38.082373   \n",
       "min       1.000000        NaN    2.700000      19.000000         2.902000   \n",
       "25%       1.000000        NaN    6.600000     537.750000         5.971000   \n",
       "50%       1.000000        NaN    7.300000    2796.000000        10.812500   \n",
       "75%       2.000000        NaN    7.800000   14404.000000        26.120750   \n",
       "max       5.000000        NaN    9.500000  374255.000000       270.029000   \n",
       "\n",
       "        tmdb_score  \n",
       "count   167.000000  \n",
       "unique         NaN  \n",
       "top            NaN  \n",
       "freq           NaN  \n",
       "mean      7.189695  \n",
       "std       1.202560  \n",
       "min       2.000000  \n",
       "25%       6.600000  \n",
       "50%       7.300000  \n",
       "75%       7.906500  \n",
       "max      10.000000  "
      ]
     },
     "execution_count": 12,
     "metadata": {},
     "output_type": "execute_result"
    }
   ],
   "source": [
    "df.describe(include='all')"
   ]
  },
  {
   "cell_type": "markdown",
   "id": "b7364541",
   "metadata": {},
   "source": [
    "The above table shows the statistical summary of the dataset, that are listed below\n",
    "* Totaly 170 shows/movies are listed which are released between 1965 and 2023. Among them 108 are TV shows.\n",
    "* There are 10 different age_certifiction has given for the movies/shows. Most of the shows/movies has \"TV-MA\" certificate\n",
    "* Runtime of shows/movies ranges from 0 to 140. But runtime can't be 0,seems it is anomalies.Need to check the data with business team.\n",
    "* 117 movies/shows are produced from US.Seasons for TV shows are varies from 1 to 5 seasons.\n",
    "* IMBD ratings for movie/shows ranges from 2.7 to 9.5 and also vot ranges from 19 to 374225\n",
    "* TMBD score for movies ranges from 2 to 10."
   ]
  },
  {
   "cell_type": "markdown",
   "id": "d4fd04f2",
   "metadata": {},
   "source": [
    "### Univariate Analysis"
   ]
  },
  {
   "cell_type": "code",
   "execution_count": 13,
   "id": "9211dfc5",
   "metadata": {},
   "outputs": [],
   "source": [
    "dfnum= df.select_dtypes(exclude='object')"
   ]
  },
  {
   "cell_type": "code",
   "execution_count": 14,
   "id": "82ebc618",
   "metadata": {},
   "outputs": [],
   "source": [
    "dfnum=dfnum.drop(['release_year','seasons'],axis=1)"
   ]
  },
  {
   "cell_type": "code",
   "execution_count": 15,
   "id": "8fe87c52",
   "metadata": {},
   "outputs": [
    {
     "data": {
      "text/html": [
       "<div>\n",
       "<style scoped>\n",
       "    .dataframe tbody tr th:only-of-type {\n",
       "        vertical-align: middle;\n",
       "    }\n",
       "\n",
       "    .dataframe tbody tr th {\n",
       "        vertical-align: top;\n",
       "    }\n",
       "\n",
       "    .dataframe thead th {\n",
       "        text-align: right;\n",
       "    }\n",
       "</style>\n",
       "<table border=\"1\" class=\"dataframe\">\n",
       "  <thead>\n",
       "    <tr style=\"text-align: right;\">\n",
       "      <th></th>\n",
       "      <th>runtime</th>\n",
       "      <th>imdb_score</th>\n",
       "      <th>imdb_votes</th>\n",
       "      <th>tmdb_popularity</th>\n",
       "      <th>tmdb_score</th>\n",
       "    </tr>\n",
       "  </thead>\n",
       "  <tbody>\n",
       "    <tr>\n",
       "      <th>0</th>\n",
       "      <td>25</td>\n",
       "      <td>8.3</td>\n",
       "      <td>40328.0</td>\n",
       "      <td>10.848</td>\n",
       "      <td>7.688</td>\n",
       "    </tr>\n",
       "    <tr>\n",
       "      <th>1</th>\n",
       "      <td>25</td>\n",
       "      <td>8.2</td>\n",
       "      <td>20299.0</td>\n",
       "      <td>12.458</td>\n",
       "      <td>7.474</td>\n",
       "    </tr>\n",
       "    <tr>\n",
       "      <th>2</th>\n",
       "      <td>25</td>\n",
       "      <td>7.7</td>\n",
       "      <td>11406.0</td>\n",
       "      <td>12.591</td>\n",
       "      <td>7.311</td>\n",
       "    </tr>\n",
       "    <tr>\n",
       "      <th>3</th>\n",
       "      <td>25</td>\n",
       "      <td>7.4</td>\n",
       "      <td>2777.0</td>\n",
       "      <td>6.981</td>\n",
       "      <td>7.000</td>\n",
       "    </tr>\n",
       "    <tr>\n",
       "      <th>4</th>\n",
       "      <td>25</td>\n",
       "      <td>7.5</td>\n",
       "      <td>3001.0</td>\n",
       "      <td>6.172</td>\n",
       "      <td>6.600</td>\n",
       "    </tr>\n",
       "  </tbody>\n",
       "</table>\n",
       "</div>"
      ],
      "text/plain": [
       "   runtime  imdb_score  imdb_votes  tmdb_popularity  tmdb_score\n",
       "0       25         8.3     40328.0           10.848       7.688\n",
       "1       25         8.2     20299.0           12.458       7.474\n",
       "2       25         7.7     11406.0           12.591       7.311\n",
       "3       25         7.4      2777.0            6.981       7.000\n",
       "4       25         7.5      3001.0            6.172       6.600"
      ]
     },
     "execution_count": 15,
     "metadata": {},
     "output_type": "execute_result"
    }
   ],
   "source": [
    "dfnum.head()"
   ]
  },
  {
   "cell_type": "code",
   "execution_count": 16,
   "id": "4910649a",
   "metadata": {},
   "outputs": [
    {
     "data": {
      "image/png": "[encoded data removed]",
      "text/plain": [
       "<Figure size 864x1080 with 10 Axes>"
      ]
     },
     "metadata": {
      "needs_background": "light"
     },
     "output_type": "display_data"
    }
   ],
   "source": [
    "plt.figure(figsize=(12,15))\n",
    "for i in range(len(dfnum.columns)):\n",
    "    plt.subplot(5,2,(2*i)+1)\n",
    "    sns.distplot(dfnum[dfnum.columns[i]])\n",
    "    plt.title('Distribution of.{}'.format(dfnum.columns[i]),weight='bold',color='red',y=1.05)\n",
    "    plt.subplot(5,2,(2*i)+2)\n",
    "    sns.boxplot(dfnum[dfnum.columns[i]])\n",
    "    plt.title('Boxplot of.{}'.format(dfnum.columns[i]),weight='bold',color='Blue',y=1.05)\n",
    "    plt.tight_layout()"
   ]
  },
  {
   "cell_type": "code",
   "execution_count": 17,
   "id": "c949dff0",
   "metadata": {},
   "outputs": [
    {
     "name": "stdout",
     "output_type": "stream",
     "text": [
      "Skew of runtime =  0.78\n",
      "Skew of imdb_score =  -1.15\n",
      "Skew of imdb_votes =  4.97\n",
      "Skew of tmdb_popularity =  3.43\n",
      "Skew of tmdb_score =  -1.37\n"
     ]
    }
   ],
   "source": [
    "for i in range(len(dfnum.columns)):\n",
    "    print ('Skew of',dfnum.columns[i],  '= ',round(dfnum[dfnum.columns[i]].skew(),2))"
   ]
  },
  {
   "cell_type": "markdown",
   "id": "c83781f7",
   "metadata": {},
   "source": [
    "**From the above graph,we can observe the following informations** "
   ]
  },
  {
   "cell_type": "markdown",
   "id": "4954f153",
   "metadata": {},
   "source": [
    "* The variable runtime is moderately right skewed and have many outlier on higher side.\n",
    "* The variable imdb_score is highlyly left skewed and have some outliers on lower side.\n",
    "* The variable imdb_votes is highlyly right skewed and have many outlier on higher side.\n",
    "* The variable tmdb_popularity is highlyly right skewed and have many outlier on higher side.\n",
    "* The variable tmdb_score is highlyly left skewed and have some outlirs on both side\n"
   ]
  },
  {
   "cell_type": "code",
   "execution_count": 18,
   "id": "7a01074e",
   "metadata": {},
   "outputs": [],
   "source": [
    "dfcat=df.drop(dfnum.columns,axis=1)"
   ]
  },
  {
   "cell_type": "code",
   "execution_count": 19,
   "id": "ae9dbc11",
   "metadata": {},
   "outputs": [],
   "source": [
    "dfcat=dfcat.drop(['id','title','description','imdb_id'],axis=1)"
   ]
  },
  {
   "cell_type": "code",
   "execution_count": 20,
   "id": "c07a8804",
   "metadata": {},
   "outputs": [
    {
     "data": {
      "text/html": [
       "<div>\n",
       "<style scoped>\n",
       "    .dataframe tbody tr th:only-of-type {\n",
       "        vertical-align: middle;\n",
       "    }\n",
       "\n",
       "    .dataframe tbody tr th {\n",
       "        vertical-align: top;\n",
       "    }\n",
       "\n",
       "    .dataframe thead th {\n",
       "        text-align: right;\n",
       "    }\n",
       "</style>\n",
       "<table border=\"1\" class=\"dataframe\">\n",
       "  <thead>\n",
       "    <tr style=\"text-align: right;\">\n",
       "      <th></th>\n",
       "      <th>type</th>\n",
       "      <th>release_year</th>\n",
       "      <th>age_certification</th>\n",
       "      <th>genres</th>\n",
       "      <th>production_countries</th>\n",
       "      <th>seasons</th>\n",
       "    </tr>\n",
       "  </thead>\n",
       "  <tbody>\n",
       "    <tr>\n",
       "      <th>0</th>\n",
       "      <td>MOVIE</td>\n",
       "      <td>1965</td>\n",
       "      <td>G</td>\n",
       "      <td>['comedy', 'drama', 'family', 'music', 'animat...</td>\n",
       "      <td>['US']</td>\n",
       "      <td>NaN</td>\n",
       "    </tr>\n",
       "    <tr>\n",
       "      <th>1</th>\n",
       "      <td>MOVIE</td>\n",
       "      <td>1966</td>\n",
       "      <td>G</td>\n",
       "      <td>['animation', 'comedy', 'family']</td>\n",
       "      <td>['US']</td>\n",
       "      <td>NaN</td>\n",
       "    </tr>\n",
       "    <tr>\n",
       "      <th>2</th>\n",
       "      <td>MOVIE</td>\n",
       "      <td>1973</td>\n",
       "      <td>G</td>\n",
       "      <td>['family', 'animation', 'comedy']</td>\n",
       "      <td>['US']</td>\n",
       "      <td>NaN</td>\n",
       "    </tr>\n",
       "    <tr>\n",
       "      <th>3</th>\n",
       "      <td>MOVIE</td>\n",
       "      <td>1975</td>\n",
       "      <td>G</td>\n",
       "      <td>['animation', 'family', 'romance', 'comedy']</td>\n",
       "      <td>['US']</td>\n",
       "      <td>NaN</td>\n",
       "    </tr>\n",
       "    <tr>\n",
       "      <th>4</th>\n",
       "      <td>MOVIE</td>\n",
       "      <td>1974</td>\n",
       "      <td>G</td>\n",
       "      <td>['family', 'animation', 'comedy']</td>\n",
       "      <td>['US']</td>\n",
       "      <td>NaN</td>\n",
       "    </tr>\n",
       "  </tbody>\n",
       "</table>\n",
       "</div>"
      ],
      "text/plain": [
       "    type  release_year age_certification  \\\n",
       "0  MOVIE          1965                 G   \n",
       "1  MOVIE          1966                 G   \n",
       "2  MOVIE          1973                 G   \n",
       "3  MOVIE          1975                 G   \n",
       "4  MOVIE          1974                 G   \n",
       "\n",
       "                                              genres production_countries  \\\n",
       "0  ['comedy', 'drama', 'family', 'music', 'animat...               ['US']   \n",
       "1                  ['animation', 'comedy', 'family']               ['US']   \n",
       "2                  ['family', 'animation', 'comedy']               ['US']   \n",
       "3       ['animation', 'family', 'romance', 'comedy']               ['US']   \n",
       "4                  ['family', 'animation', 'comedy']               ['US']   \n",
       "\n",
       "   seasons  \n",
       "0      NaN  \n",
       "1      NaN  \n",
       "2      NaN  \n",
       "3      NaN  \n",
       "4      NaN  "
      ]
     },
     "execution_count": 20,
     "metadata": {},
     "output_type": "execute_result"
    }
   ],
   "source": [
    "dfcat.head()"
   ]
  },
  {
   "cell_type": "code",
   "execution_count": 21,
   "id": "20fa4101",
   "metadata": {},
   "outputs": [
    {
     "data": {
      "image/png": "[encoded data removed]",
      "text/plain": [
       "<Figure size 1440x1728 with 6 Axes>"
      ]
     },
     "metadata": {
      "needs_background": "light"
     },
     "output_type": "display_data"
    }
   ],
   "source": [
    "plt.figure(figsize=(20,24))\n",
    "for i in range(len(dfcat.columns)):\n",
    "    plt.subplot(6,1,i+1)\n",
    "    sns.countplot(dfcat[dfcat.columns[i]])\n",
    "    plt.title('Frequency of.{}'.format(dfcat.columns[i]),weight='bold',color='red',y=1.05)\n",
    "    plt.tight_layout()"
   ]
  },
  {
   "cell_type": "markdown",
   "id": "8d6cc429",
   "metadata": {},
   "source": [
    "**From the above plots we can observe that**\n",
    "* Most of them are TV shows a'tvnd most of the movies/shows are produced from US\n",
    "* Most of the shows has \"TV-MA' certification and less nuber of  shows has \"TV-YZ\" certification.\n",
    "* Most of the movies/shows have only one season, this is due to movies usually have no following seasons.\n",
    "* Most of the movies has been released between 2019 to 2023."
   ]
  },
  {
   "cell_type": "markdown",
   "id": "83009f9e",
   "metadata": {},
   "source": [
    "**Bivariate Anlysis**"
   ]
  },
  {
   "cell_type": "code",
   "execution_count": 22,
   "id": "f3771c5f",
   "metadata": {},
   "outputs": [
    {
     "data": {
      "text/plain": [
       "<function matplotlib.pyplot.show(close=None, block=None)>"
      ]
     },
     "execution_count": 22,
     "metadata": {},
     "output_type": "execute_result"
    },
    {
     "data": {
      "image/png": "[encoded data removed]",
      "text/plain": [
       "<Figure size 900x900 with 30 Axes>"
      ]
     },
     "metadata": {
      "needs_background": "light"
     },
     "output_type": "display_data"
    }
   ],
   "source": [
    "sns.pairplot(dfnum)\n",
    "plt.show"
   ]
  },
  {
   "cell_type": "markdown",
   "id": "e2448d74",
   "metadata": {},
   "source": [
    "**The above pair plot shows the relationship between the each variable to each other.We can see that there is a no strong co-relation between any of the variables.The value of co-relation has been explained with the aid of heatmap**"
   ]
  },
  {
   "cell_type": "markdown",
   "id": "cb6a26e0",
   "metadata": {},
   "source": [
    "**Heatmap**"
   ]
  },
  {
   "cell_type": "code",
   "execution_count": 23,
   "id": "54cb4c17",
   "metadata": {},
   "outputs": [
    {
     "data": {
      "image/png": "[encoded data removed]",
      "text/plain": [
       "<Figure size 576x576 with 2 Axes>"
      ]
     },
     "metadata": {
      "needs_background": "light"
     },
     "output_type": "display_data"
    }
   ],
   "source": [
    "plt.figure(figsize=(8,8))\n",
    "sns.heatmap(dfnum.corr(),annot=True,mask=np.triu(np.ones_like(dfnum.corr(),dtype=np.bool)))\n",
    "plt.show()"
   ]
  },
  {
   "cell_type": "markdown",
   "id": "0de115c1",
   "metadata": {},
   "source": [
    "From the above heatap, we can see that there is no significant co-relation between any of the variables."
   ]
  },
  {
   "cell_type": "markdown",
   "id": "72a9976a",
   "metadata": {},
   "source": [
    "**Impute null values and Anomalies**"
   ]
  },
  {
   "cell_type": "markdown",
   "id": "ef45ccb0",
   "metadata": {},
   "source": [
    "As our dataset is small,having only 170 records. I am imputing datapoints without using any algorithm like KNN imputer."
   ]
  },
  {
   "cell_type": "code",
   "execution_count": 24,
   "id": "8940fb34",
   "metadata": {},
   "outputs": [
    {
     "data": {
      "text/html": [
       "<div>\n",
       "<style scoped>\n",
       "    .dataframe tbody tr th:only-of-type {\n",
       "        vertical-align: middle;\n",
       "    }\n",
       "\n",
       "    .dataframe tbody tr th {\n",
       "        vertical-align: top;\n",
       "    }\n",
       "\n",
       "    .dataframe thead th {\n",
       "        text-align: right;\n",
       "    }\n",
       "</style>\n",
       "<table border=\"1\" class=\"dataframe\">\n",
       "  <thead>\n",
       "    <tr style=\"text-align: right;\">\n",
       "      <th></th>\n",
       "      <th>No.of null values</th>\n",
       "    </tr>\n",
       "  </thead>\n",
       "  <tbody>\n",
       "    <tr>\n",
       "      <th>id</th>\n",
       "      <td>0</td>\n",
       "    </tr>\n",
       "    <tr>\n",
       "      <th>title</th>\n",
       "      <td>0</td>\n",
       "    </tr>\n",
       "    <tr>\n",
       "      <th>type</th>\n",
       "      <td>0</td>\n",
       "    </tr>\n",
       "    <tr>\n",
       "      <th>description</th>\n",
       "      <td>0</td>\n",
       "    </tr>\n",
       "    <tr>\n",
       "      <th>release_year</th>\n",
       "      <td>0</td>\n",
       "    </tr>\n",
       "    <tr>\n",
       "      <th>age_certification</th>\n",
       "      <td>11</td>\n",
       "    </tr>\n",
       "    <tr>\n",
       "      <th>runtime</th>\n",
       "      <td>0</td>\n",
       "    </tr>\n",
       "    <tr>\n",
       "      <th>genres</th>\n",
       "      <td>0</td>\n",
       "    </tr>\n",
       "    <tr>\n",
       "      <th>production_countries</th>\n",
       "      <td>0</td>\n",
       "    </tr>\n",
       "    <tr>\n",
       "      <th>seasons</th>\n",
       "      <td>62</td>\n",
       "    </tr>\n",
       "    <tr>\n",
       "      <th>imdb_id</th>\n",
       "      <td>1</td>\n",
       "    </tr>\n",
       "    <tr>\n",
       "      <th>imdb_score</th>\n",
       "      <td>3</td>\n",
       "    </tr>\n",
       "    <tr>\n",
       "      <th>imdb_votes</th>\n",
       "      <td>4</td>\n",
       "    </tr>\n",
       "    <tr>\n",
       "      <th>tmdb_popularity</th>\n",
       "      <td>0</td>\n",
       "    </tr>\n",
       "    <tr>\n",
       "      <th>tmdb_score</th>\n",
       "      <td>3</td>\n",
       "    </tr>\n",
       "  </tbody>\n",
       "</table>\n",
       "</div>"
      ],
      "text/plain": [
       "                      No.of null values\n",
       "id                                    0\n",
       "title                                 0\n",
       "type                                  0\n",
       "description                           0\n",
       "release_year                          0\n",
       "age_certification                    11\n",
       "runtime                               0\n",
       "genres                                0\n",
       "production_countries                  0\n",
       "seasons                              62\n",
       "imdb_id                               1\n",
       "imdb_score                            3\n",
       "imdb_votes                            4\n",
       "tmdb_popularity                       0\n",
       "tmdb_score                            3"
      ]
     },
     "execution_count": 24,
     "metadata": {},
     "output_type": "execute_result"
    }
   ],
   "source": [
    "pd.DataFrame(df.isnull().sum(),columns=[\"No.of null values\"])"
   ]
  },
  {
   "cell_type": "markdown",
   "id": "7448cae4",
   "metadata": {},
   "source": [
    "* imbd_id is an unqique identifier, it can't be imputed with any values. Either it has replced with correct imbd-id or those  rows should be dropped. Here i, removed those rows, since we have only one null value out of 170(0.5% approx).\n",
    "* age_certification has 11 null values, it wiled iputd by mode of age_certification."
   ]
  },
  {
   "cell_type": "code",
   "execution_count": 25,
   "id": "a9f2b1da",
   "metadata": {},
   "outputs": [
    {
     "data": {
      "text/plain": [
       "MOVIE    62\n",
       "Name: type, dtype: int64"
      ]
     },
     "execution_count": 25,
     "metadata": {},
     "output_type": "execute_result"
    }
   ],
   "source": [
    "df[df.seasons.isnull()].type.value_counts()"
   ]
  },
  {
   "cell_type": "code",
   "execution_count": 26,
   "id": "02aeae79",
   "metadata": {},
   "outputs": [
    {
     "data": {
      "text/plain": [
       "Series([], Name: seasons, dtype: int64)"
      ]
     },
     "execution_count": 26,
     "metadata": {},
     "output_type": "execute_result"
    }
   ],
   "source": [
    "df[df.type==\"MOVIE\"].seasons.value_counts()"
   ]
  },
  {
   "cell_type": "markdown",
   "id": "41c99b7c",
   "metadata": {},
   "source": [
    "* seasons has 62 values. we found that all those 62 records are movies. usually seasons is aplicable for TV-SHOW only. i am impuing values with value 1.\n",
    "* imdb_votes,imbd_score and tmdb_score has some null values. These null values are imputed by their repective median values, Since these variable hae outliers. Medians are less sensitive to outliers.\n",
    "* Also we have anomalie in variable runtime,runtime can't be 0. It should be replaced mean running time of with repecctive category(show/movie)"
   ]
  },
  {
   "cell_type": "code",
   "execution_count": 27,
   "id": "8f1524a5",
   "metadata": {},
   "outputs": [],
   "source": [
    "df.seasons=df.seasons.fillna(1)"
   ]
  },
  {
   "cell_type": "code",
   "execution_count": 28,
   "id": "06dd8eff",
   "metadata": {},
   "outputs": [],
   "source": [
    "df.age_certification=df.age_certification.fillna('TV-MA')"
   ]
  },
  {
   "cell_type": "code",
   "execution_count": 29,
   "id": "ffe2eb7c",
   "metadata": {},
   "outputs": [],
   "source": [
    "\n",
    "df.imdb_votes=df.imdb_votes.fillna(df.imdb_votes.median())\n",
    "df.imdb_score=df.imdb_score.fillna(df.imdb_score.median())\n",
    "df.tmdb_score=df.tmdb_score.fillna(df.tmdb_score.median())"
   ]
  },
  {
   "cell_type": "code",
   "execution_count": 30,
   "id": "b3db2cd9",
   "metadata": {},
   "outputs": [],
   "source": [
    "df=df.dropna()"
   ]
  },
  {
   "cell_type": "code",
   "execution_count": 31,
   "id": "2157304d",
   "metadata": {},
   "outputs": [
    {
     "data": {
      "text/html": [
       "<div>\n",
       "<style scoped>\n",
       "    .dataframe tbody tr th:only-of-type {\n",
       "        vertical-align: middle;\n",
       "    }\n",
       "\n",
       "    .dataframe tbody tr th {\n",
       "        vertical-align: top;\n",
       "    }\n",
       "\n",
       "    .dataframe thead th {\n",
       "        text-align: right;\n",
       "    }\n",
       "</style>\n",
       "<table border=\"1\" class=\"dataframe\">\n",
       "  <thead>\n",
       "    <tr style=\"text-align: right;\">\n",
       "      <th></th>\n",
       "      <th>No.of null values</th>\n",
       "    </tr>\n",
       "  </thead>\n",
       "  <tbody>\n",
       "    <tr>\n",
       "      <th>id</th>\n",
       "      <td>0</td>\n",
       "    </tr>\n",
       "    <tr>\n",
       "      <th>title</th>\n",
       "      <td>0</td>\n",
       "    </tr>\n",
       "    <tr>\n",
       "      <th>type</th>\n",
       "      <td>0</td>\n",
       "    </tr>\n",
       "    <tr>\n",
       "      <th>description</th>\n",
       "      <td>0</td>\n",
       "    </tr>\n",
       "    <tr>\n",
       "      <th>release_year</th>\n",
       "      <td>0</td>\n",
       "    </tr>\n",
       "    <tr>\n",
       "      <th>age_certification</th>\n",
       "      <td>0</td>\n",
       "    </tr>\n",
       "    <tr>\n",
       "      <th>runtime</th>\n",
       "      <td>0</td>\n",
       "    </tr>\n",
       "    <tr>\n",
       "      <th>genres</th>\n",
       "      <td>0</td>\n",
       "    </tr>\n",
       "    <tr>\n",
       "      <th>production_countries</th>\n",
       "      <td>0</td>\n",
       "    </tr>\n",
       "    <tr>\n",
       "      <th>seasons</th>\n",
       "      <td>0</td>\n",
       "    </tr>\n",
       "    <tr>\n",
       "      <th>imdb_id</th>\n",
       "      <td>0</td>\n",
       "    </tr>\n",
       "    <tr>\n",
       "      <th>imdb_score</th>\n",
       "      <td>0</td>\n",
       "    </tr>\n",
       "    <tr>\n",
       "      <th>imdb_votes</th>\n",
       "      <td>0</td>\n",
       "    </tr>\n",
       "    <tr>\n",
       "      <th>tmdb_popularity</th>\n",
       "      <td>0</td>\n",
       "    </tr>\n",
       "    <tr>\n",
       "      <th>tmdb_score</th>\n",
       "      <td>0</td>\n",
       "    </tr>\n",
       "  </tbody>\n",
       "</table>\n",
       "</div>"
      ],
      "text/plain": [
       "                      No.of null values\n",
       "id                                    0\n",
       "title                                 0\n",
       "type                                  0\n",
       "description                           0\n",
       "release_year                          0\n",
       "age_certification                     0\n",
       "runtime                               0\n",
       "genres                                0\n",
       "production_countries                  0\n",
       "seasons                               0\n",
       "imdb_id                               0\n",
       "imdb_score                            0\n",
       "imdb_votes                            0\n",
       "tmdb_popularity                       0\n",
       "tmdb_score                            0"
      ]
     },
     "execution_count": 31,
     "metadata": {},
     "output_type": "execute_result"
    }
   ],
   "source": [
    "pd.DataFrame(df.isnull().sum(),columns=[\"No.of null values\"])"
   ]
  },
  {
   "cell_type": "code",
   "execution_count": 32,
   "id": "663da5f2",
   "metadata": {},
   "outputs": [
    {
     "data": {
      "text/plain": [
       "(169, 15)"
      ]
     },
     "execution_count": 32,
     "metadata": {},
     "output_type": "execute_result"
    }
   ],
   "source": [
    "df.shape"
   ]
  },
  {
   "cell_type": "code",
   "execution_count": 33,
   "id": "7b4c854d",
   "metadata": {},
   "outputs": [
    {
     "data": {
      "text/plain": [
       "(9, 15)"
      ]
     },
     "execution_count": 33,
     "metadata": {},
     "output_type": "execute_result"
    }
   ],
   "source": [
    "df[df.runtime==0].shape"
   ]
  },
  {
   "cell_type": "code",
   "execution_count": 34,
   "id": "d6ffa7cf",
   "metadata": {},
   "outputs": [
    {
     "data": {
      "text/plain": [
       "type\n",
       "SHOW    9\n",
       "dtype: int64"
      ]
     },
     "execution_count": 34,
     "metadata": {},
     "output_type": "execute_result"
    }
   ],
   "source": [
    "df[df.runtime==0].value_counts(df.type)"
   ]
  },
  {
   "cell_type": "markdown",
   "id": "a5dc58c2",
   "metadata": {},
   "source": [
    "**We can see that, records which have runtime as 0 are TV-shows. Those values are replaced by mean runtime of shows.**"
   ]
  },
  {
   "cell_type": "code",
   "execution_count": 35,
   "id": "b7f0087e",
   "metadata": {},
   "outputs": [],
   "source": [
    "df.runtime = df.runtime.replace(0,df[df.type==\"SHOW\"].runtime.mean())"
   ]
  },
  {
   "cell_type": "markdown",
   "id": "da36fc00",
   "metadata": {},
   "source": [
    "**After imputing missing vaues and anaoalies, our dataset drop to 169 rows**"
   ]
  },
  {
   "cell_type": "markdown",
   "id": "01681c5c",
   "metadata": {},
   "source": [
    "## EDA for \"credits.csv\""
   ]
  },
  {
   "cell_type": "code",
   "execution_count": 36,
   "id": "28a003ab",
   "metadata": {},
   "outputs": [],
   "source": [
    "df1=pd.read_csv(\"credits.csv\")"
   ]
  },
  {
   "cell_type": "markdown",
   "id": "e09011e9",
   "metadata": {},
   "source": [
    "### Sample data"
   ]
  },
  {
   "cell_type": "code",
   "execution_count": 37,
   "id": "64f6d95d",
   "metadata": {},
   "outputs": [
    {
     "data": {
      "text/html": [
       "<div>\n",
       "<style scoped>\n",
       "    .dataframe tbody tr th:only-of-type {\n",
       "        vertical-align: middle;\n",
       "    }\n",
       "\n",
       "    .dataframe tbody tr th {\n",
       "        vertical-align: top;\n",
       "    }\n",
       "\n",
       "    .dataframe thead th {\n",
       "        text-align: right;\n",
       "    }\n",
       "</style>\n",
       "<table border=\"1\" class=\"dataframe\">\n",
       "  <thead>\n",
       "    <tr style=\"text-align: right;\">\n",
       "      <th></th>\n",
       "      <th>person_id</th>\n",
       "      <th>id</th>\n",
       "      <th>name</th>\n",
       "      <th>character</th>\n",
       "      <th>role</th>\n",
       "    </tr>\n",
       "  </thead>\n",
       "  <tbody>\n",
       "    <tr>\n",
       "      <th>0</th>\n",
       "      <td>96413</td>\n",
       "      <td>tm1300</td>\n",
       "      <td>Peter Robbins</td>\n",
       "      <td>Charlie Brown (voice)</td>\n",
       "      <td>ACTOR</td>\n",
       "    </tr>\n",
       "    <tr>\n",
       "      <th>1</th>\n",
       "      <td>96416</td>\n",
       "      <td>tm1300</td>\n",
       "      <td>Christopher Shea</td>\n",
       "      <td>Linus Van Pelt (voice)</td>\n",
       "      <td>ACTOR</td>\n",
       "    </tr>\n",
       "    <tr>\n",
       "      <th>2</th>\n",
       "      <td>96414</td>\n",
       "      <td>tm1300</td>\n",
       "      <td>Tracy Stratford</td>\n",
       "      <td>Lucy Van Pelt (voice)</td>\n",
       "      <td>ACTOR</td>\n",
       "    </tr>\n",
       "    <tr>\n",
       "      <th>3</th>\n",
       "      <td>96415</td>\n",
       "      <td>tm1300</td>\n",
       "      <td>Cathy Steinberg</td>\n",
       "      <td>Sally Brown (voice)</td>\n",
       "      <td>ACTOR</td>\n",
       "    </tr>\n",
       "    <tr>\n",
       "      <th>4</th>\n",
       "      <td>149</td>\n",
       "      <td>tm1300</td>\n",
       "      <td>Bill Melendez</td>\n",
       "      <td>Snoopy (voice)</td>\n",
       "      <td>ACTOR</td>\n",
       "    </tr>\n",
       "  </tbody>\n",
       "</table>\n",
       "</div>"
      ],
      "text/plain": [
       "   person_id      id              name               character   role\n",
       "0      96413  tm1300     Peter Robbins   Charlie Brown (voice)  ACTOR\n",
       "1      96416  tm1300  Christopher Shea  Linus Van Pelt (voice)  ACTOR\n",
       "2      96414  tm1300   Tracy Stratford   Lucy Van Pelt (voice)  ACTOR\n",
       "3      96415  tm1300   Cathy Steinberg     Sally Brown (voice)  ACTOR\n",
       "4        149  tm1300     Bill Melendez          Snoopy (voice)  ACTOR"
      ]
     },
     "execution_count": 37,
     "metadata": {},
     "output_type": "execute_result"
    }
   ],
   "source": [
    "df1.head()"
   ]
  },
  {
   "cell_type": "code",
   "execution_count": 38,
   "id": "74ba2537",
   "metadata": {},
   "outputs": [
    {
     "data": {
      "text/plain": [
       "(1875, 5)"
      ]
     },
     "execution_count": 38,
     "metadata": {},
     "output_type": "execute_result"
    }
   ],
   "source": [
    "df1.shape"
   ]
  },
  {
   "cell_type": "code",
   "execution_count": 39,
   "id": "36131e89",
   "metadata": {},
   "outputs": [
    {
     "name": "stdout",
     "output_type": "stream",
     "text": [
      "<class 'pandas.core.frame.DataFrame'>\n",
      "RangeIndex: 1875 entries, 0 to 1874\n",
      "Data columns (total 5 columns):\n",
      " #   Column     Non-Null Count  Dtype \n",
      "---  ------     --------------  ----- \n",
      " 0   person_id  1875 non-null   int64 \n",
      " 1   id         1875 non-null   object\n",
      " 2   name       1875 non-null   object\n",
      " 3   character  1770 non-null   object\n",
      " 4   role       1875 non-null   object\n",
      "dtypes: int64(1), object(4)\n",
      "memory usage: 73.4+ KB\n"
     ]
    }
   ],
   "source": [
    "df1.info()"
   ]
  },
  {
   "cell_type": "markdown",
   "id": "c506a8f1",
   "metadata": {},
   "source": [
    "### Datatype for each variable"
   ]
  },
  {
   "cell_type": "code",
   "execution_count": 40,
   "id": "710aefbc",
   "metadata": {},
   "outputs": [
    {
     "data": {
      "text/plain": [
       "Index(['person_id', 'id', 'name', 'character', 'role'], dtype='object')"
      ]
     },
     "execution_count": 40,
     "metadata": {},
     "output_type": "execute_result"
    }
   ],
   "source": [
    "df1.columns"
   ]
  },
  {
   "cell_type": "markdown",
   "id": "d6719151",
   "metadata": {},
   "source": [
    "### Missing values in the dataset"
   ]
  },
  {
   "cell_type": "code",
   "execution_count": 41,
   "id": "6d0d9773",
   "metadata": {},
   "outputs": [
    {
     "data": {
      "text/html": [
       "<div>\n",
       "<style scoped>\n",
       "    .dataframe tbody tr th:only-of-type {\n",
       "        vertical-align: middle;\n",
       "    }\n",
       "\n",
       "    .dataframe tbody tr th {\n",
       "        vertical-align: top;\n",
       "    }\n",
       "\n",
       "    .dataframe thead th {\n",
       "        text-align: right;\n",
       "    }\n",
       "</style>\n",
       "<table border=\"1\" class=\"dataframe\">\n",
       "  <thead>\n",
       "    <tr style=\"text-align: right;\">\n",
       "      <th></th>\n",
       "      <th>No.of null values</th>\n",
       "    </tr>\n",
       "  </thead>\n",
       "  <tbody>\n",
       "    <tr>\n",
       "      <th>person_id</th>\n",
       "      <td>0</td>\n",
       "    </tr>\n",
       "    <tr>\n",
       "      <th>id</th>\n",
       "      <td>0</td>\n",
       "    </tr>\n",
       "    <tr>\n",
       "      <th>name</th>\n",
       "      <td>0</td>\n",
       "    </tr>\n",
       "    <tr>\n",
       "      <th>character</th>\n",
       "      <td>105</td>\n",
       "    </tr>\n",
       "    <tr>\n",
       "      <th>role</th>\n",
       "      <td>0</td>\n",
       "    </tr>\n",
       "  </tbody>\n",
       "</table>\n",
       "</div>"
      ],
      "text/plain": [
       "           No.of null values\n",
       "person_id                  0\n",
       "id                         0\n",
       "name                       0\n",
       "character                105\n",
       "role                       0"
      ]
     },
     "execution_count": 41,
     "metadata": {},
     "output_type": "execute_result"
    }
   ],
   "source": [
    "pd.DataFrame(df1.isnull().sum(),columns=[\"No.of null values\"])"
   ]
  },
  {
   "cell_type": "code",
   "execution_count": 42,
   "id": "edf99117",
   "metadata": {},
   "outputs": [
    {
     "data": {
      "text/plain": [
       "array([nan], dtype=object)"
      ]
     },
     "execution_count": 42,
     "metadata": {},
     "output_type": "execute_result"
    }
   ],
   "source": [
    "df1[df1.role=='DIRECTOR'].character.unique()"
   ]
  },
  {
   "cell_type": "code",
   "execution_count": 43,
   "id": "e2e307a8",
   "metadata": {},
   "outputs": [
    {
     "data": {
      "text/plain": [
       "(89, 5)"
      ]
     },
     "execution_count": 43,
     "metadata": {},
     "output_type": "execute_result"
    }
   ],
   "source": [
    "df1[df1.role=='DIRECTOR'].shape"
   ]
  },
  {
   "cell_type": "code",
   "execution_count": 44,
   "id": "079dede3",
   "metadata": {},
   "outputs": [
    {
     "data": {
      "text/plain": [
       "(16, 5)"
      ]
     },
     "execution_count": 44,
     "metadata": {},
     "output_type": "execute_result"
    }
   ],
   "source": [
    "df1[df1.character.isna()][df1[df1.character.isna()].role!=\"DIRECTOR\"].shape"
   ]
  },
  {
   "cell_type": "code",
   "execution_count": 45,
   "id": "ef059dbf",
   "metadata": {},
   "outputs": [
    {
     "data": {
      "text/html": [
       "<div>\n",
       "<style scoped>\n",
       "    .dataframe tbody tr th:only-of-type {\n",
       "        vertical-align: middle;\n",
       "    }\n",
       "\n",
       "    .dataframe tbody tr th {\n",
       "        vertical-align: top;\n",
       "    }\n",
       "\n",
       "    .dataframe thead th {\n",
       "        text-align: right;\n",
       "    }\n",
       "</style>\n",
       "<table border=\"1\" class=\"dataframe\">\n",
       "  <thead>\n",
       "    <tr style=\"text-align: right;\">\n",
       "      <th></th>\n",
       "      <th>person_id</th>\n",
       "      <th>id</th>\n",
       "      <th>name</th>\n",
       "      <th>character</th>\n",
       "      <th>role</th>\n",
       "    </tr>\n",
       "  </thead>\n",
       "  <tbody>\n",
       "    <tr>\n",
       "      <th>438</th>\n",
       "      <td>590324</td>\n",
       "      <td>ts81913</td>\n",
       "      <td>Aljoscha Stadelmann</td>\n",
       "      <td>NaN</td>\n",
       "      <td>ACTOR</td>\n",
       "    </tr>\n",
       "    <tr>\n",
       "      <th>439</th>\n",
       "      <td>1026553</td>\n",
       "      <td>ts81913</td>\n",
       "      <td>Paul Sundheim</td>\n",
       "      <td>NaN</td>\n",
       "      <td>ACTOR</td>\n",
       "    </tr>\n",
       "    <tr>\n",
       "      <th>440</th>\n",
       "      <td>41223</td>\n",
       "      <td>ts81913</td>\n",
       "      <td>Samuel Finzi</td>\n",
       "      <td>NaN</td>\n",
       "      <td>ACTOR</td>\n",
       "    </tr>\n",
       "    <tr>\n",
       "      <th>443</th>\n",
       "      <td>2047073</td>\n",
       "      <td>ts81913</td>\n",
       "      <td>Kelvin Kilonzo</td>\n",
       "      <td>NaN</td>\n",
       "      <td>ACTOR</td>\n",
       "    </tr>\n",
       "    <tr>\n",
       "      <th>445</th>\n",
       "      <td>590052</td>\n",
       "      <td>ts81913</td>\n",
       "      <td>Nina Gummich</td>\n",
       "      <td>NaN</td>\n",
       "      <td>ACTOR</td>\n",
       "    </tr>\n",
       "    <tr>\n",
       "      <th>446</th>\n",
       "      <td>589280</td>\n",
       "      <td>ts81913</td>\n",
       "      <td>Godehard Giese</td>\n",
       "      <td>NaN</td>\n",
       "      <td>ACTOR</td>\n",
       "    </tr>\n",
       "    <tr>\n",
       "      <th>477</th>\n",
       "      <td>674023</td>\n",
       "      <td>ts224872</td>\n",
       "      <td>Corey Reeser</td>\n",
       "      <td>NaN</td>\n",
       "      <td>ACTOR</td>\n",
       "    </tr>\n",
       "    <tr>\n",
       "      <th>478</th>\n",
       "      <td>1423336</td>\n",
       "      <td>ts224872</td>\n",
       "      <td>Matt Tynauer</td>\n",
       "      <td>NaN</td>\n",
       "      <td>ACTOR</td>\n",
       "    </tr>\n",
       "    <tr>\n",
       "      <th>509</th>\n",
       "      <td>1862248</td>\n",
       "      <td>tm314230</td>\n",
       "      <td>Lana Ropion</td>\n",
       "      <td>NaN</td>\n",
       "      <td>ACTOR</td>\n",
       "    </tr>\n",
       "    <tr>\n",
       "      <th>761</th>\n",
       "      <td>2441766</td>\n",
       "      <td>ts343661</td>\n",
       "      <td>Laney Stiebing</td>\n",
       "      <td>NaN</td>\n",
       "      <td>ACTOR</td>\n",
       "    </tr>\n",
       "    <tr>\n",
       "      <th>1474</th>\n",
       "      <td>1474303</td>\n",
       "      <td>tm470776</td>\n",
       "      <td>Nick Zeleznik</td>\n",
       "      <td>NaN</td>\n",
       "      <td>ACTOR</td>\n",
       "    </tr>\n",
       "    <tr>\n",
       "      <th>1485</th>\n",
       "      <td>1636399</td>\n",
       "      <td>tm470776</td>\n",
       "      <td>Dominic Cancelliere</td>\n",
       "      <td>NaN</td>\n",
       "      <td>ACTOR</td>\n",
       "    </tr>\n",
       "    <tr>\n",
       "      <th>1493</th>\n",
       "      <td>388929</td>\n",
       "      <td>tm470776</td>\n",
       "      <td>Matt Hudson</td>\n",
       "      <td>NaN</td>\n",
       "      <td>ACTOR</td>\n",
       "    </tr>\n",
       "    <tr>\n",
       "      <th>1620</th>\n",
       "      <td>645334</td>\n",
       "      <td>ts320127</td>\n",
       "      <td>Miya Cech</td>\n",
       "      <td>NaN</td>\n",
       "      <td>ACTOR</td>\n",
       "    </tr>\n",
       "    <tr>\n",
       "      <th>1621</th>\n",
       "      <td>920418</td>\n",
       "      <td>ts320127</td>\n",
       "      <td>YaYa Gosselin</td>\n",
       "      <td>NaN</td>\n",
       "      <td>ACTOR</td>\n",
       "    </tr>\n",
       "    <tr>\n",
       "      <th>1622</th>\n",
       "      <td>2274408</td>\n",
       "      <td>ts320127</td>\n",
       "      <td>Spencer Hermes-Rebello</td>\n",
       "      <td>NaN</td>\n",
       "      <td>ACTOR</td>\n",
       "    </tr>\n",
       "  </tbody>\n",
       "</table>\n",
       "</div>"
      ],
      "text/plain": [
       "      person_id        id                    name character   role\n",
       "438      590324   ts81913     Aljoscha Stadelmann       NaN  ACTOR\n",
       "439     1026553   ts81913           Paul Sundheim       NaN  ACTOR\n",
       "440       41223   ts81913            Samuel Finzi       NaN  ACTOR\n",
       "443     2047073   ts81913          Kelvin Kilonzo       NaN  ACTOR\n",
       "445      590052   ts81913            Nina Gummich       NaN  ACTOR\n",
       "446      589280   ts81913          Godehard Giese       NaN  ACTOR\n",
       "477      674023  ts224872            Corey Reeser       NaN  ACTOR\n",
       "478     1423336  ts224872            Matt Tynauer       NaN  ACTOR\n",
       "509     1862248  tm314230             Lana Ropion       NaN  ACTOR\n",
       "761     2441766  ts343661          Laney Stiebing       NaN  ACTOR\n",
       "1474    1474303  tm470776           Nick Zeleznik       NaN  ACTOR\n",
       "1485    1636399  tm470776     Dominic Cancelliere       NaN  ACTOR\n",
       "1493     388929  tm470776             Matt Hudson       NaN  ACTOR\n",
       "1620     645334  ts320127               Miya Cech       NaN  ACTOR\n",
       "1621     920418  ts320127           YaYa Gosselin       NaN  ACTOR\n",
       "1622    2274408  ts320127  Spencer Hermes-Rebello       NaN  ACTOR"
      ]
     },
     "execution_count": 45,
     "metadata": {},
     "output_type": "execute_result"
    }
   ],
   "source": [
    "df1[df1.character.isna()][df1[df1.character.isna()].role!=\"DIRECTOR\"]"
   ]
  },
  {
   "cell_type": "markdown",
   "id": "c2f7ce6f",
   "metadata": {},
   "source": [
    "### Check duplicates"
   ]
  },
  {
   "cell_type": "code",
   "execution_count": 46,
   "id": "0dde3cab",
   "metadata": {},
   "outputs": [
    {
     "data": {
      "text/plain": [
       "0"
      ]
     },
     "execution_count": 46,
     "metadata": {},
     "output_type": "execute_result"
    }
   ],
   "source": [
    "df1.duplicated().sum()"
   ]
  },
  {
   "cell_type": "markdown",
   "id": "2cffe590",
   "metadata": {},
   "source": [
    "* There are total 1875 rows and 5 columns in the dataset.  \n",
    "* Other than person_id,all other are object type variable.\n",
    "* From the above results we can see that the variable Character has 105 nul values. Among them 89 are records about director, usualy they don't have charater in movie.Remaining are missing values. But these values are should be replaced with true value.\n",
    "* Also checked that there is no duplicate rows.  \n"
   ]
  },
  {
   "cell_type": "markdown",
   "id": "0d27172e",
   "metadata": {},
   "source": [
    "**Statiscal Summary**"
   ]
  },
  {
   "cell_type": "code",
   "execution_count": 47,
   "id": "5e343334",
   "metadata": {
    "scrolled": true
   },
   "outputs": [
    {
     "data": {
      "text/html": [
       "<div>\n",
       "<style scoped>\n",
       "    .dataframe tbody tr th:only-of-type {\n",
       "        vertical-align: middle;\n",
       "    }\n",
       "\n",
       "    .dataframe tbody tr th {\n",
       "        vertical-align: top;\n",
       "    }\n",
       "\n",
       "    .dataframe thead th {\n",
       "        text-align: right;\n",
       "    }\n",
       "</style>\n",
       "<table border=\"1\" class=\"dataframe\">\n",
       "  <thead>\n",
       "    <tr style=\"text-align: right;\">\n",
       "      <th></th>\n",
       "      <th>person_id</th>\n",
       "      <th>id</th>\n",
       "      <th>name</th>\n",
       "      <th>character</th>\n",
       "      <th>role</th>\n",
       "    </tr>\n",
       "  </thead>\n",
       "  <tbody>\n",
       "    <tr>\n",
       "      <th>count</th>\n",
       "      <td>1.875000e+03</td>\n",
       "      <td>1875</td>\n",
       "      <td>1875</td>\n",
       "      <td>1770</td>\n",
       "      <td>1875</td>\n",
       "    </tr>\n",
       "    <tr>\n",
       "      <th>unique</th>\n",
       "      <td>NaN</td>\n",
       "      <td>157</td>\n",
       "      <td>1671</td>\n",
       "      <td>1334</td>\n",
       "      <td>2</td>\n",
       "    </tr>\n",
       "    <tr>\n",
       "      <th>top</th>\n",
       "      <td>NaN</td>\n",
       "      <td>tm1164256</td>\n",
       "      <td>Bill Melendez</td>\n",
       "      <td>Self</td>\n",
       "      <td>ACTOR</td>\n",
       "    </tr>\n",
       "    <tr>\n",
       "      <th>freq</th>\n",
       "      <td>NaN</td>\n",
       "      <td>90</td>\n",
       "      <td>17</td>\n",
       "      <td>151</td>\n",
       "      <td>1786</td>\n",
       "    </tr>\n",
       "    <tr>\n",
       "      <th>mean</th>\n",
       "      <td>6.357298e+05</td>\n",
       "      <td>NaN</td>\n",
       "      <td>NaN</td>\n",
       "      <td>NaN</td>\n",
       "      <td>NaN</td>\n",
       "    </tr>\n",
       "    <tr>\n",
       "      <th>std</th>\n",
       "      <td>8.289775e+05</td>\n",
       "      <td>NaN</td>\n",
       "      <td>NaN</td>\n",
       "      <td>NaN</td>\n",
       "      <td>NaN</td>\n",
       "    </tr>\n",
       "    <tr>\n",
       "      <th>min</th>\n",
       "      <td>1.460000e+02</td>\n",
       "      <td>NaN</td>\n",
       "      <td>NaN</td>\n",
       "      <td>NaN</td>\n",
       "      <td>NaN</td>\n",
       "    </tr>\n",
       "    <tr>\n",
       "      <th>25%</th>\n",
       "      <td>1.990250e+04</td>\n",
       "      <td>NaN</td>\n",
       "      <td>NaN</td>\n",
       "      <td>NaN</td>\n",
       "      <td>NaN</td>\n",
       "    </tr>\n",
       "    <tr>\n",
       "      <th>50%</th>\n",
       "      <td>1.250210e+05</td>\n",
       "      <td>NaN</td>\n",
       "      <td>NaN</td>\n",
       "      <td>NaN</td>\n",
       "      <td>NaN</td>\n",
       "    </tr>\n",
       "    <tr>\n",
       "      <th>75%</th>\n",
       "      <td>1.097004e+06</td>\n",
       "      <td>NaN</td>\n",
       "      <td>NaN</td>\n",
       "      <td>NaN</td>\n",
       "      <td>NaN</td>\n",
       "    </tr>\n",
       "    <tr>\n",
       "      <th>max</th>\n",
       "      <td>2.755997e+06</td>\n",
       "      <td>NaN</td>\n",
       "      <td>NaN</td>\n",
       "      <td>NaN</td>\n",
       "      <td>NaN</td>\n",
       "    </tr>\n",
       "  </tbody>\n",
       "</table>\n",
       "</div>"
      ],
      "text/plain": [
       "           person_id         id           name character   role\n",
       "count   1.875000e+03       1875           1875      1770   1875\n",
       "unique           NaN        157           1671      1334      2\n",
       "top              NaN  tm1164256  Bill Melendez      Self  ACTOR\n",
       "freq             NaN         90             17       151   1786\n",
       "mean    6.357298e+05        NaN            NaN       NaN    NaN\n",
       "std     8.289775e+05        NaN            NaN       NaN    NaN\n",
       "min     1.460000e+02        NaN            NaN       NaN    NaN\n",
       "25%     1.990250e+04        NaN            NaN       NaN    NaN\n",
       "50%     1.250210e+05        NaN            NaN       NaN    NaN\n",
       "75%     1.097004e+06        NaN            NaN       NaN    NaN\n",
       "max     2.755997e+06        NaN            NaN       NaN    NaN"
      ]
     },
     "execution_count": 47,
     "metadata": {},
     "output_type": "execute_result"
    }
   ],
   "source": [
    "df1.describe(include='all')"
   ]
  },
  {
   "cell_type": "code",
   "execution_count": 48,
   "id": "a1882ab4",
   "metadata": {},
   "outputs": [
    {
     "data": {
      "text/plain": [
       "person_id\n",
       "149        17\n",
       "1129557     8\n",
       "113461      8\n",
       "1129452     8\n",
       "714214      7\n",
       "           ..\n",
       "49179       1\n",
       "48746       1\n",
       "48574       1\n",
       "47948       1\n",
       "2755997     1\n",
       "Length: 1673, dtype: int64"
      ]
     },
     "execution_count": 48,
     "metadata": {},
     "output_type": "execute_result"
    }
   ],
   "source": [
    "df1.value_counts('person_id')"
   ]
  },
  {
   "cell_type": "code",
   "execution_count": 49,
   "id": "4a6939cd",
   "metadata": {},
   "outputs": [
    {
     "data": {
      "text/html": [
       "<div>\n",
       "<style scoped>\n",
       "    .dataframe tbody tr th:only-of-type {\n",
       "        vertical-align: middle;\n",
       "    }\n",
       "\n",
       "    .dataframe tbody tr th {\n",
       "        vertical-align: top;\n",
       "    }\n",
       "\n",
       "    .dataframe thead th {\n",
       "        text-align: right;\n",
       "    }\n",
       "</style>\n",
       "<table border=\"1\" class=\"dataframe\">\n",
       "  <thead>\n",
       "    <tr style=\"text-align: right;\">\n",
       "      <th></th>\n",
       "      <th>person_id</th>\n",
       "      <th>id</th>\n",
       "      <th>name</th>\n",
       "      <th>character</th>\n",
       "      <th>role</th>\n",
       "    </tr>\n",
       "  </thead>\n",
       "  <tbody>\n",
       "    <tr>\n",
       "      <th>4</th>\n",
       "      <td>149</td>\n",
       "      <td>tm1300</td>\n",
       "      <td>Bill Melendez</td>\n",
       "      <td>Snoopy (voice)</td>\n",
       "      <td>ACTOR</td>\n",
       "    </tr>\n",
       "    <tr>\n",
       "      <th>10</th>\n",
       "      <td>149</td>\n",
       "      <td>tm1300</td>\n",
       "      <td>Bill Melendez</td>\n",
       "      <td>NaN</td>\n",
       "      <td>DIRECTOR</td>\n",
       "    </tr>\n",
       "    <tr>\n",
       "      <th>14</th>\n",
       "      <td>149</td>\n",
       "      <td>tm71152</td>\n",
       "      <td>Bill Melendez</td>\n",
       "      <td>Snoopy (voice)</td>\n",
       "      <td>ACTOR</td>\n",
       "    </tr>\n",
       "    <tr>\n",
       "      <th>20</th>\n",
       "      <td>149</td>\n",
       "      <td>tm71152</td>\n",
       "      <td>Bill Melendez</td>\n",
       "      <td>NaN</td>\n",
       "      <td>DIRECTOR</td>\n",
       "    </tr>\n",
       "    <tr>\n",
       "      <th>27</th>\n",
       "      <td>149</td>\n",
       "      <td>tm2562</td>\n",
       "      <td>Bill Melendez</td>\n",
       "      <td>Snoopy / Woodstock (voice) (uncredited)</td>\n",
       "      <td>ACTOR</td>\n",
       "    </tr>\n",
       "    <tr>\n",
       "      <th>32</th>\n",
       "      <td>149</td>\n",
       "      <td>tm2562</td>\n",
       "      <td>Bill Melendez</td>\n",
       "      <td>NaN</td>\n",
       "      <td>DIRECTOR</td>\n",
       "    </tr>\n",
       "    <tr>\n",
       "      <th>39</th>\n",
       "      <td>149</td>\n",
       "      <td>tm125274</td>\n",
       "      <td>Bill Melendez</td>\n",
       "      <td>Snoopy / Woodstock (voice)</td>\n",
       "      <td>ACTOR</td>\n",
       "    </tr>\n",
       "    <tr>\n",
       "      <th>47</th>\n",
       "      <td>149</td>\n",
       "      <td>tm106607</td>\n",
       "      <td>Bill Melendez</td>\n",
       "      <td>Snoopy / Woodstock (voice) (uncredited)</td>\n",
       "      <td>ACTOR</td>\n",
       "    </tr>\n",
       "    <tr>\n",
       "      <th>64</th>\n",
       "      <td>149</td>\n",
       "      <td>tm115354</td>\n",
       "      <td>Bill Melendez</td>\n",
       "      <td>Snoopy / Woodstock (voice) (uncredited)</td>\n",
       "      <td>ACTOR</td>\n",
       "    </tr>\n",
       "    <tr>\n",
       "      <th>66</th>\n",
       "      <td>149</td>\n",
       "      <td>tm115354</td>\n",
       "      <td>Bill Melendez</td>\n",
       "      <td>NaN</td>\n",
       "      <td>DIRECTOR</td>\n",
       "    </tr>\n",
       "    <tr>\n",
       "      <th>143</th>\n",
       "      <td>149</td>\n",
       "      <td>tm125504</td>\n",
       "      <td>Bill Melendez</td>\n",
       "      <td>Snoopy / Woodstock (voice)</td>\n",
       "      <td>ACTOR</td>\n",
       "    </tr>\n",
       "    <tr>\n",
       "      <th>151</th>\n",
       "      <td>149</td>\n",
       "      <td>tm125504</td>\n",
       "      <td>Bill Melendez</td>\n",
       "      <td>NaN</td>\n",
       "      <td>DIRECTOR</td>\n",
       "    </tr>\n",
       "    <tr>\n",
       "      <th>245</th>\n",
       "      <td>149</td>\n",
       "      <td>tm136009</td>\n",
       "      <td>Bill Melendez</td>\n",
       "      <td>Snoopy / Spike (voice)</td>\n",
       "      <td>ACTOR</td>\n",
       "    </tr>\n",
       "    <tr>\n",
       "      <th>247</th>\n",
       "      <td>149</td>\n",
       "      <td>tm136009</td>\n",
       "      <td>Bill Melendez</td>\n",
       "      <td>NaN</td>\n",
       "      <td>DIRECTOR</td>\n",
       "    </tr>\n",
       "    <tr>\n",
       "      <th>255</th>\n",
       "      <td>149</td>\n",
       "      <td>tm109971</td>\n",
       "      <td>Bill Melendez</td>\n",
       "      <td>Snoopy / Woodstock (voice)</td>\n",
       "      <td>ACTOR</td>\n",
       "    </tr>\n",
       "    <tr>\n",
       "      <th>264</th>\n",
       "      <td>149</td>\n",
       "      <td>tm116453</td>\n",
       "      <td>Bill Melendez</td>\n",
       "      <td>Snoopy (voice)</td>\n",
       "      <td>ACTOR</td>\n",
       "    </tr>\n",
       "    <tr>\n",
       "      <th>265</th>\n",
       "      <td>149</td>\n",
       "      <td>tm116453</td>\n",
       "      <td>Bill Melendez</td>\n",
       "      <td>NaN</td>\n",
       "      <td>DIRECTOR</td>\n",
       "    </tr>\n",
       "  </tbody>\n",
       "</table>\n",
       "</div>"
      ],
      "text/plain": [
       "     person_id        id           name  \\\n",
       "4          149    tm1300  Bill Melendez   \n",
       "10         149    tm1300  Bill Melendez   \n",
       "14         149   tm71152  Bill Melendez   \n",
       "20         149   tm71152  Bill Melendez   \n",
       "27         149    tm2562  Bill Melendez   \n",
       "32         149    tm2562  Bill Melendez   \n",
       "39         149  tm125274  Bill Melendez   \n",
       "47         149  tm106607  Bill Melendez   \n",
       "64         149  tm115354  Bill Melendez   \n",
       "66         149  tm115354  Bill Melendez   \n",
       "143        149  tm125504  Bill Melendez   \n",
       "151        149  tm125504  Bill Melendez   \n",
       "245        149  tm136009  Bill Melendez   \n",
       "247        149  tm136009  Bill Melendez   \n",
       "255        149  tm109971  Bill Melendez   \n",
       "264        149  tm116453  Bill Melendez   \n",
       "265        149  tm116453  Bill Melendez   \n",
       "\n",
       "                                   character      role  \n",
       "4                             Snoopy (voice)     ACTOR  \n",
       "10                                       NaN  DIRECTOR  \n",
       "14                            Snoopy (voice)     ACTOR  \n",
       "20                                       NaN  DIRECTOR  \n",
       "27   Snoopy / Woodstock (voice) (uncredited)     ACTOR  \n",
       "32                                       NaN  DIRECTOR  \n",
       "39                Snoopy / Woodstock (voice)     ACTOR  \n",
       "47   Snoopy / Woodstock (voice) (uncredited)     ACTOR  \n",
       "64   Snoopy / Woodstock (voice) (uncredited)     ACTOR  \n",
       "66                                       NaN  DIRECTOR  \n",
       "143               Snoopy / Woodstock (voice)     ACTOR  \n",
       "151                                      NaN  DIRECTOR  \n",
       "245                   Snoopy / Spike (voice)     ACTOR  \n",
       "247                                      NaN  DIRECTOR  \n",
       "255               Snoopy / Woodstock (voice)     ACTOR  \n",
       "264                           Snoopy (voice)     ACTOR  \n",
       "265                                      NaN  DIRECTOR  "
      ]
     },
     "execution_count": 49,
     "metadata": {},
     "output_type": "execute_result"
    }
   ],
   "source": [
    "df1[df1.name==\"Bill Melendez\"]"
   ]
  },
  {
   "cell_type": "markdown",
   "id": "80cee39f",
   "metadata": {},
   "source": [
    "The above table shows the statistical summary of the dataset, that are listed below\n",
    "* person_id is uniqu identifier to identify the person and totaly 1673 uique persons are there.\n",
    "* id is title of movie/shows where the persons were worked. tm116425 is a movie/show in which most number of persons workded. About 90 persos worked in this move/show.\n",
    "* Among 1875 person's info, 1786 about actos info and remaining are directors.Some persons done both actor and director.\n",
    "* There are only 1673 uniques personalities in this dataset.Bill Melendez, person worked in most number of movie/shows. He worked as both actor and director"
   ]
  },
  {
   "cell_type": "markdown",
   "id": "8340ceb1",
   "metadata": {},
   "source": [
    "### Univariate and BivariateAnalysis "
   ]
  },
  {
   "cell_type": "code",
   "execution_count": 60,
   "id": "c77ae0b0",
   "metadata": {},
   "outputs": [
    {
     "name": "stdout",
     "output_type": "stream",
     "text": [
      "           counts\n",
      "person_id        \n",
      "149            17\n",
      "1129557         8\n",
      "113461          8\n",
      "1129452         8\n",
      "714214          7\n",
      "...           ...\n",
      "49179           1\n",
      "48746           1\n",
      "48574           1\n",
      "47948           1\n",
      "2755997         1\n",
      "\n",
      "[1673 rows x 1 columns]\n",
      "           counts\n",
      "id               \n",
      "tm1164256      90\n",
      "tm1187561      83\n",
      "tm470776       65\n",
      "tm62080        50\n",
      "tm983754       49\n",
      "...           ...\n",
      "ts235703        1\n",
      "ts287788        1\n",
      "tm1080335       1\n",
      "ts221425        1\n",
      "ts288083        1\n",
      "\n",
      "[157 rows x 1 columns]\n",
      "                counts\n",
      "name                  \n",
      "Bill Melendez       17\n",
      "Terry McGurrin       8\n",
      "Wyatt White          8\n",
      "Isabella Leo         8\n",
      "Holly Gorski         7\n",
      "...                ...\n",
      "Grayson Eddey        1\n",
      "Grant Hill           1\n",
      "Grant Harvey         1\n",
      "Gracen Newton        1\n",
      "Ériq Ebouaney        1\n",
      "\n",
      "[1671 rows x 1 columns]\n",
      "                        counts\n",
      "character                     \n",
      "Self                       151\n",
      "Self (archive footage)      31\n",
      "Himself                     22\n",
      "Charlie Brown (voice)       17\n",
      "Snoopy (voice)              11\n",
      "...                        ...\n",
      "Greta                        1\n",
      "Greg                         1\n",
      "Grandpa Harold               1\n",
      "Grandpa Baba                 1\n",
      "Lee Helmsman #2              1\n",
      "\n",
      "[1334 rows x 1 columns]\n",
      "          counts\n",
      "role            \n",
      "ACTOR       1786\n",
      "DIRECTOR      89\n"
     ]
    }
   ],
   "source": [
    "for i in range(len(df1.columns)):\n",
    "    a=pd.DataFrame(df1.value_counts(df1.columns[i]),columns=['counts'])\n",
    "    print(a)"
   ]
  },
  {
   "cell_type": "code",
   "execution_count": 74,
   "id": "8afaeec7",
   "metadata": {},
   "outputs": [
    {
     "data": {
      "text/plain": [
       "2"
      ]
     },
     "execution_count": 74,
     "metadata": {},
     "output_type": "execute_result"
    }
   ],
   "source": [
    "len(df1.role.unique())"
   ]
  },
  {
   "cell_type": "code",
   "execution_count": 97,
   "id": "bf0b5c24",
   "metadata": {},
   "outputs": [
    {
     "name": "stdout",
     "output_type": "stream",
     "text": [
      "Bill Melendez\n",
      "Russ Malkin\n",
      "David Alexanian\n",
      "Werner Herzog\n",
      "Clive Oppenheimer\n",
      "Spike Jonze\n",
      "Bryce Dallas Howard\n",
      "Cooper Raiff\n",
      "Joe Russo\n"
     ]
    }
   ],
   "source": [
    "for i in range(len(list(df1.name.unique()))):\n",
    "    a=len(df1[df1.name==list(df1.name.unique())[i]].role.unique())\n",
    "    if a>1:\n",
    "        print(df1.name.unique()[i])\n",
    "        "
   ]
  },
  {
   "cell_type": "markdown",
   "id": "f29e0668",
   "metadata": {},
   "source": [
    "**From the above analysis of each variable we can observe that**\n",
    "* Person_id 149 has more more number of records. Bill Melendez had worked in more number of movies than others.\n",
    "* Self is the Charachter presented in more numbr of times than other charcters.\n",
    "* Bill Melendez,Russ Malkin,David Alexanian,Werner Herzog,Clive Oppenheimer,Spike Jonze,Bryce Dallas Howard,Cooper Raiff,Joe Russo-These 9 person has donr both the role (ACTOR and Director)"
   ]
  },
  {
   "cell_type": "code",
   "execution_count": null,
   "id": "54fbb5b9",
   "metadata": {},
   "outputs": [],
   "source": []
  }
 ],
 "metadata": {
  "kernelspec": {
   "display_name": "Python 3 (ipykernel)",
   "language": "python",
   "name": "python3"
  },
  "language_info": {
   "codemirror_mode": {
    "name": "ipython",
    "version": 3
   },
   "file_extension": ".py",
   "mimetype": "text/x-python",
   "name": "python",
   "nbconvert_exporter": "python",
   "pygments_lexer": "ipython3",
   "version": "3.9.7"
  }
 },
 "nbformat": 4,
 "nbformat_minor": 5
}
